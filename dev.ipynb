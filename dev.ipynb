{
 "cells": [
  {
   "cell_type": "code",
   "execution_count": 1,
   "id": "a7f61af7",
   "metadata": {},
   "outputs": [],
   "source": [
    "import pandas as pd\n",
    "import numpy as np\n"
   ]
  },
  {
   "cell_type": "code",
   "execution_count": 78,
   "id": "91504d0c",
   "metadata": {},
   "outputs": [],
   "source": [
    "a = np.array([1,1,2,2,3,3,3,3,3])"
   ]
  },
  {
   "cell_type": "code",
   "execution_count": 29,
   "id": "428f8eb1",
   "metadata": {},
   "outputs": [
    {
     "data": {
      "text/plain": [
       "3"
      ]
     },
     "execution_count": 29,
     "metadata": {},
     "output_type": "execute_result"
    }
   ],
   "source": [
    "n_classes, counts = np.unique(a, return_counts=True)\n",
    "counts[1]\n",
    "#n_classes"
   ]
  },
  {
   "cell_type": "code",
   "execution_count": 59,
   "id": "8308700c",
   "metadata": {},
   "outputs": [
    {
     "data": {
      "text/plain": [
       "254"
      ]
     },
     "execution_count": 59,
     "metadata": {},
     "output_type": "execute_result"
    }
   ],
   "source": [
    "len(str(i))"
   ]
  },
  {
   "cell_type": "code",
   "execution_count": 30,
   "id": "14d04496",
   "metadata": {},
   "outputs": [],
   "source": [
    "def Gini_impurity(rows):\n",
    "    \"\"\"calculates gini impurity for a single group, 0 is perfectly homogenous (pure)\n",
    "    \"\"\"\n",
    "    gini = 1\n",
    "    n_classes, counts = np.unique(rows, return_counts=True)\n",
    "    for i in range(len(counts)):\n",
    "        p = counts[i]/counts.sum()\n",
    "        gini -= p * p\n",
    "    return gini  "
   ]
  },
  {
   "cell_type": "code",
   "execution_count": 79,
   "id": "8c4718fe",
   "metadata": {},
   "outputs": [
    {
     "data": {
      "text/plain": [
       "0.40740740740740744"
      ]
     },
     "execution_count": 79,
     "metadata": {},
     "output_type": "execute_result"
    }
   ],
   "source": [
    "Gini_impurity(a)"
   ]
  },
  {
   "cell_type": "code",
   "execution_count": null,
   "id": "21ea047e",
   "metadata": {},
   "outputs": [],
   "source": [
    "def Gi_split()"
   ]
  }
 ],
 "metadata": {
  "kernelspec": {
   "display_name": "Python 3",
   "language": "python",
   "name": "python3"
  },
  "language_info": {
   "codemirror_mode": {
    "name": "ipython",
    "version": 3
   },
   "file_extension": ".py",
   "mimetype": "text/x-python",
   "name": "python",
   "nbconvert_exporter": "python",
   "pygments_lexer": "ipython3",
   "version": "3.8.5"
  }
 },
 "nbformat": 4,
 "nbformat_minor": 5
}
